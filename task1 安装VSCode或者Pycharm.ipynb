{
 "cells": [
  {
   "cell_type": "markdown",
   "metadata": {},
   "source": [
    "Python编辑器有很多，推荐大家两个，一个是VSCode。一个Pycharm。VSCode比较小巧，风格简洁，通过插件可以实现强大的功能。同学们可以自由选择安装哪一个。<br>\n",
    "#### 下载安装VSCode\n",
    "1. 打开网址https://code.visualstudio.com/\n",
    "2. 下载适合的最新版本，免费，无需注册破解。\n",
    "3. 安装\n",
    "4. 新建hello.py文件，编写print(\"hello 学号+姓名\")，然后保存，系统会提示安装Python插件。安装好插件后，执行按钮就会出现，最后点击执行按钮。\n",
    "5. 截图运行结果<br>"
   ]
  },
  {
   "cell_type": "markdown",
   "metadata": {},
   "source": [
    "#### 下载安装Pycharm\n",
    "1. 打开网址https://www.jetbrains.com/pycharm/download/\n",
    "2. 下载Community版，免费，无需注册破解。Professional版是要付费的。\n",
    "3. 也可以下载教育版https://www.jetbrains.com/pycharm-edu/download/index.html，有学习资料，可以练习，很有意思的。\n",
    "4. 安装\n",
    "5. 创建project，在project中创建文件hello.py，编写print(\"hello 学号+姓名\")，然后右键文件，选择执行。\n",
    "6. 截图运行结果<br>\n"
   ]
  },
  {
   "cell_type": "markdown",
   "metadata": {},
   "source": [
    "#### 其他好用的工具也可以\n",
    "1. 下载安装\n",
    "2. 编写print(\"hello 学号+姓名\")\n",
    "3. 截图运行结果"
   ]
  },
  {
   "cell_type": "code",
   "execution_count": 3,
   "metadata": {},
   "outputs": [
    {
     "name": "stdout",
     "output_type": "stream",
     "text": [
      "hello+学号+姓名\n"
     ]
    }
   ],
   "source": [
    "print('hello+学号+姓名')"
   ]
  }
 ],
 "metadata": {
  "kernelspec": {
   "display_name": "Python 3",
   "language": "python",
   "name": "python3"
  },
  "language_info": {
   "codemirror_mode": {
    "name": "ipython",
    "version": 3
   },
   "file_extension": ".py",
   "mimetype": "text/x-python",
   "name": "python",
   "nbconvert_exporter": "python",
   "pygments_lexer": "ipython3",
   "version": "3.7.6"
  }
 },
 "nbformat": 4,
 "nbformat_minor": 2
}
