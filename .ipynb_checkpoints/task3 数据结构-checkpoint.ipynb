{
 "cells": [
  {
   "cell_type": "markdown",
   "metadata": {},
   "source": [
    "### task3 数据结构\n",
    "之前我们学习python的基础，比如变量，数据类型，简单的列表，条件和循环语句，基本面向对象还有文件I/O。\n",
    "有了上面的基础，我可以更好的学习Python中各种常用数据结构的用法。"
   ]
  },
  {
   "cell_type": "markdown",
   "metadata": {},
   "source": [
    "#### 列表\n",
    "首先我们重新创建列表，然后学习一些列表的方法，最后完成一些小任务。"
   ]
  },
  {
   "cell_type": "code",
   "execution_count": 22,
   "metadata": {},
   "outputs": [],
   "source": [
    "#创建列表\n",
    "empty = [] #可以初始化为空列表   \n",
    "student = ['haha','hehe','heihei'] #字符串列表\n",
    "score = [100,88,90,99,77,89,95]  #数值列表\n",
    "age = [18,'弱冠','而立'] #多种类型也可以"
   ]
  },
  {
   "cell_type": "code",
   "execution_count": 7,
   "metadata": {},
   "outputs": [
    {
     "name": "stdout",
     "output_type": "stream",
     "text": [
      "['haha', 'hehe', 'heihei', '特靠谱', '特没谱']\n"
     ]
    }
   ],
   "source": [
    "#列表的方法\n",
    "#扩充列表.extend(iterable)\n",
    "student.extend(['特靠谱','特没谱'])\n",
    "print(student)"
   ]
  },
  {
   "cell_type": "code",
   "execution_count": 8,
   "metadata": {},
   "outputs": [
    {
     "name": "stdout",
     "output_type": "stream",
     "text": [
      "['haha', 'hehe', '特有普', 'heihei', '特靠谱', '特没谱']\n"
     ]
    }
   ],
   "source": [
    "#列表的插入 .insert(index,object)\n",
    "student.insert(2,'特有普')\n",
    "print(student)"
   ]
  },
  {
   "cell_type": "code",
   "execution_count": 9,
   "metadata": {},
   "outputs": [
    {
     "name": "stdout",
     "output_type": "stream",
     "text": [
      "['haha', 'hehe', '特有普', 'heihei', '特靠谱']\n"
     ]
    }
   ],
   "source": [
    "#移除某个元素 .remove(value)\n",
    "student.remove('特没谱')\n",
    "print(student)"
   ]
  },
  {
   "cell_type": "code",
   "execution_count": 4,
   "metadata": {},
   "outputs": [
    {
     "name": "stdout",
     "output_type": "stream",
     "text": [
      "[]\n"
     ]
    }
   ],
   "source": [
    "#清除列表内容\n",
    "student.clear()\n",
    "print(student)"
   ]
  },
  {
   "cell_type": "code",
   "execution_count": 10,
   "metadata": {},
   "outputs": [
    {
     "name": "stdout",
     "output_type": "stream",
     "text": [
      "1\n",
      "2\n"
     ]
    }
   ],
   "source": [
    "#计算值出现了多少次\n",
    "print(student.count('特有普'))\n",
    "#返回数据的第一个位置，找不到就抛ValueError\n",
    "print(student.index('特有普'))"
   ]
  },
  {
   "cell_type": "code",
   "execution_count": 15,
   "metadata": {},
   "outputs": [
    {
     "ename": "IndexError",
     "evalue": "pop index out of range",
     "output_type": "error",
     "traceback": [
      "\u001b[1;31m---------------------------------------------------------------------------\u001b[0m",
      "\u001b[1;31mIndexError\u001b[0m                                Traceback (most recent call last)",
      "\u001b[1;32m<ipython-input-15-542e9d00e3be>\u001b[0m in \u001b[0;36m<module>\u001b[1;34m\u001b[0m\n\u001b[0;32m      1\u001b[0m \u001b[1;31m#获取指定位置的元素， .pop([index]) index如果不写，默认是最后一个，如果找不到则抛出IndexError\u001b[0m\u001b[1;33m\u001b[0m\u001b[1;33m\u001b[0m\u001b[1;33m\u001b[0m\u001b[0m\n\u001b[1;32m----> 2\u001b[1;33m \u001b[0mprint\u001b[0m\u001b[1;33m(\u001b[0m\u001b[0mstudent\u001b[0m\u001b[1;33m.\u001b[0m\u001b[0mpop\u001b[0m\u001b[1;33m(\u001b[0m\u001b[1;36m2\u001b[0m\u001b[1;33m)\u001b[0m\u001b[1;33m)\u001b[0m\u001b[1;33m\u001b[0m\u001b[1;33m\u001b[0m\u001b[0m\n\u001b[0m",
      "\u001b[1;31mIndexError\u001b[0m: pop index out of range"
     ]
    }
   ],
   "source": [
    "#获取指定位置的元素， .pop([index]) index如果不写，默认是最后一个，如果找不到则抛出IndexError\n",
    "print(student.pop(2))"
   ]
  },
  {
   "cell_type": "code",
   "execution_count": 31,
   "metadata": {},
   "outputs": [
    {
     "name": "stdout",
     "output_type": "stream",
     "text": [
      "[100, 99, 95, 90, 89, 88, 77]\n"
     ]
    }
   ],
   "source": [
    "#列表反转 .reverse()\n",
    "score.reverse()\n",
    "print(score)"
   ]
  },
  {
   "cell_type": "code",
   "execution_count": 28,
   "metadata": {},
   "outputs": [
    {
     "name": "stdout",
     "output_type": "stream",
     "text": [
      "None\n",
      "[77, 88, 89, 90, 95, 99, 100]\n"
     ]
    }
   ],
   "source": [
    "#列表排序 .sort(key=None,reverse=False),key表示对什么排序一般是个函数，reverse表示是否倒序\n",
    "print(score.sort())\n",
    "print(score)"
   ]
  },
  {
   "cell_type": "code",
   "execution_count": 85,
   "metadata": {},
   "outputs": [
    {
     "name": "stdout",
     "output_type": "stream",
     "text": [
      "[100, 99, 95, 90, 89, 88, 77]\n"
     ]
    }
   ],
   "source": [
    "#倒序\n",
    "score.sort(reverse=True)\n",
    "print(score)"
   ]
  },
  {
   "cell_type": "code",
   "execution_count": 87,
   "metadata": {},
   "outputs": [
    {
     "name": "stdout",
     "output_type": "stream",
     "text": [
      "[77, 88, 89, 90, 95, 99, 100]\n"
     ]
    }
   ],
   "source": [
    "#列表排序 sorted\n",
    "print(sorted(score))"
   ]
  },
  {
   "cell_type": "code",
   "execution_count": 32,
   "metadata": {},
   "outputs": [
    {
     "name": "stdout",
     "output_type": "stream",
     "text": [
      "[100, 90, 88, 99, 95, 89, 77]\n"
     ]
    }
   ],
   "source": [
    "#根据key查询，偶数在前，奇数在后\n",
    "#key可以指定一个函数，根据函数的结果排序\n",
    "def evenfirst(item):\n",
    "    return item%2\n",
    "score.sort(key=evenfirst)\n",
    "print(score)"
   ]
  },
  {
   "cell_type": "code",
   "execution_count": null,
   "metadata": {},
   "outputs": [],
   "source": [
    "#任务3.1 成绩排名\n",
    "#在文件stuscore.txt中输入10行数据，每行是姓名，数学，英语，语文。读取数据，用列表存储，最后输出每个人的成绩和总分，并按照总分排名。"
   ]
  },
  {
   "cell_type": "markdown",
   "metadata": {},
   "source": [
    "#### 字典\n",
    "字典里面存放的数据主要是key-value形式，可以通过key找到value。查询速度非常快，数据排序也很容易。字典key可以是能计算hash值得任意类型，值value也是任意类型。"
   ]
  },
  {
   "cell_type": "code",
   "execution_count": 73,
   "metadata": {},
   "outputs": [
    {
     "name": "stdout",
     "output_type": "stream",
     "text": [
      "{}\n",
      "<class 'dict'>\n",
      "True\n",
      "False\n"
     ]
    }
   ],
   "source": [
    "#字典的创建与初始化\n",
    "empty={}\n",
    "print(empty)\n",
    "print(type(empty))\n",
    "print(empty == dict())\n",
    "\n",
    "scores = dict(shuxue=140,yingyu=110,jisuanji=90)\n",
    "scores2 = {\"yingyu\":140,'jisuanji':110,\"shuxue\":90}\n",
    "print(scores==scores2)"
   ]
  },
  {
   "cell_type": "code",
   "execution_count": 51,
   "metadata": {},
   "outputs": [
    {
     "name": "stdout",
     "output_type": "stream",
     "text": [
      "150\n",
      "None\n",
      "666\n"
     ]
    },
    {
     "ename": "KeyError",
     "evalue": "'yuwen'",
     "output_type": "error",
     "traceback": [
      "\u001b[1;31m---------------------------------------------------------------------------\u001b[0m",
      "\u001b[1;31mKeyError\u001b[0m                                  Traceback (most recent call last)",
      "\u001b[1;32m<ipython-input-51-86441457afed>\u001b[0m in \u001b[0;36m<module>\u001b[1;34m\u001b[0m\n\u001b[0;32m      6\u001b[0m \u001b[0mprint\u001b[0m\u001b[1;33m(\u001b[0m\u001b[0mscores\u001b[0m\u001b[1;33m.\u001b[0m\u001b[0mget\u001b[0m\u001b[1;33m(\u001b[0m\u001b[1;34m'yuwen'\u001b[0m\u001b[1;33m,\u001b[0m\u001b[1;36m666\u001b[0m\u001b[1;33m)\u001b[0m\u001b[1;33m)\u001b[0m\u001b[1;33m\u001b[0m\u001b[1;33m\u001b[0m\u001b[0m\n\u001b[0;32m      7\u001b[0m \u001b[1;31m#通过下标访问不存在的key会出错\u001b[0m\u001b[1;33m\u001b[0m\u001b[1;33m\u001b[0m\u001b[1;33m\u001b[0m\u001b[0m\n\u001b[1;32m----> 8\u001b[1;33m \u001b[0mprint\u001b[0m\u001b[1;33m(\u001b[0m\u001b[0mscores\u001b[0m\u001b[1;33m[\u001b[0m\u001b[1;34m'yuwen'\u001b[0m\u001b[1;33m]\u001b[0m\u001b[1;33m)\u001b[0m\u001b[1;33m\u001b[0m\u001b[1;33m\u001b[0m\u001b[0m\n\u001b[0m",
      "\u001b[1;31mKeyError\u001b[0m: 'yuwen'"
     ]
    }
   ],
   "source": [
    "#根据key获取value\n",
    "print(scores['shuxue'])\n",
    "#通过get访问不存在的key，回返回None\n",
    "print(scores.get('yuwen'))  \n",
    "#也可以在get获取不到的时候，提供默认值\n",
    "print(scores.get('yuwen',666))\n",
    "#通过下标访问不存在的key会出错\n",
    "print(scores['yuwen'])  \n"
   ]
  },
  {
   "cell_type": "code",
   "execution_count": 48,
   "metadata": {},
   "outputs": [
    {
     "name": "stdout",
     "output_type": "stream",
     "text": [
      "{'shuxue': 150, 'yingyu': 110, 'jisuanji': 90, 'yuwen': 110}\n"
     ]
    }
   ],
   "source": [
    "#设置key value\n",
    "scores['shuxue'] = 150\n",
    "scores['yuwen']=110\n",
    "print(scores)"
   ]
  },
  {
   "cell_type": "code",
   "execution_count": 50,
   "metadata": {},
   "outputs": [],
   "source": [
    "#删除key-value对\n",
    "del scores['yuwen']"
   ]
  },
  {
   "cell_type": "code",
   "execution_count": 56,
   "metadata": {},
   "outputs": [
    {
     "name": "stdout",
     "output_type": "stream",
     "text": [
      "140\n",
      "{'yingyu': 110, 'jisuanji': 90}\n"
     ]
    }
   ],
   "source": [
    "#取出key-value对，并返回value值\n",
    "print(scores.pop('shuxue'))\n",
    "print(scores)"
   ]
  },
  {
   "cell_type": "code",
   "execution_count": 57,
   "metadata": {
    "scrolled": true
   },
   "outputs": [
    {
     "name": "stdout",
     "output_type": "stream",
     "text": [
      "666\n"
     ]
    }
   ],
   "source": [
    "#取出key-value对，并返回value值，如果不存在key，则返回默认值\n",
    "print(scores.pop('khbd',666))"
   ]
  },
  {
   "cell_type": "code",
   "execution_count": 72,
   "metadata": {},
   "outputs": [
    {
     "name": "stdout",
     "output_type": "stream",
     "text": [
      "('shuxue', 140)\n"
     ]
    }
   ],
   "source": [
    "#取出一个键值对（具体哪个与实际存储情况相关）\n",
    "print(scores.popitem())"
   ]
  },
  {
   "cell_type": "code",
   "execution_count": 83,
   "metadata": {},
   "outputs": [
    {
     "name": "stdout",
     "output_type": "stream",
     "text": [
      "dict_keys(['shuxue', 'yingyu', 'jisuanji'])\n",
      "shuxue\n",
      "yingyu\n",
      "jisuanji\n",
      "dict_values([140, 110, 90])\n",
      "140\n",
      "110\n",
      "90\n",
      "dict_items([('shuxue', 140), ('yingyu', 110), ('jisuanji', 90)])\n",
      "shuxue:140\n",
      "yingyu:110\n",
      "jisuanji:90\n"
     ]
    }
   ],
   "source": [
    "#获取所有key\n",
    "print(scores.keys())\n",
    "for key in scores.keys():\n",
    "    print(key)\n",
    "#获取所有value\n",
    "print(scores.values())\n",
    "for value in scores.values():\n",
    "    print(value)\n",
    "#获取所有的key-value\n",
    "print(scores.items())\n",
    "for key,value in scores.items():\n",
    "    print('{}:{}'.format(key,value))"
   ]
  },
  {
   "cell_type": "code",
   "execution_count": 84,
   "metadata": {
    "scrolled": false
   },
   "outputs": [
    {
     "name": "stdout",
     "output_type": "stream",
     "text": [
      "3\n",
      "{'shuxue': 140, 'yingyu': 110, 'jisuanji': 90}\n",
      "True\n",
      "False\n"
     ]
    }
   ],
   "source": [
    "#查看字典长度\n",
    "print(len(scores))\n",
    "#复制字典\n",
    "newscores=scores.copy()\n",
    "print(newscores)\n",
    "print(newscores == scores)\n",
    "print(newscores is scores)"
   ]
  },
  {
   "cell_type": "code",
   "execution_count": null,
   "metadata": {},
   "outputs": [],
   "source": [
    "#任务3.2 成绩查询\n",
    "#在文件stuscore.txt中输入10行数据，每行是姓名，数学，英语，语文。读取数据，用字典存储，用户输入姓名可以查找成绩，要求"
   ]
  }
 ],
 "metadata": {
  "kernelspec": {
   "display_name": "Python 3",
   "language": "python",
   "name": "python3"
  },
  "language_info": {
   "codemirror_mode": {
    "name": "ipython",
    "version": 3
   },
   "file_extension": ".py",
   "mimetype": "text/x-python",
   "name": "python",
   "nbconvert_exporter": "python",
   "pygments_lexer": "ipython3",
   "version": "3.7.3"
  }
 },
 "nbformat": 4,
 "nbformat_minor": 2
}
