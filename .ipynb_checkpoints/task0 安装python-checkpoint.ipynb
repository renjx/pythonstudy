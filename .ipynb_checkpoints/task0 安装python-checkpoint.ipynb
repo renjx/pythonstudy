{
 "cells": [
  {
   "cell_type": "markdown",
   "metadata": {},
   "source": [
    "Python是解释型语言，写的代码会被解释器一行一行翻译成机器码执行。安装Python就是得到一个解释器及相关工具和运行库。具体步骤如下：\n",
    "1. 去Python官网python.org下载Python\n",
    "Python支持多种操作系统，比如windows，macos，linux。我选择一个合适的下载，版本最好是最新的。我们以windows举例，下载下来是个exe文件，可以直接双击执行安装。在安装过程中记得把Python加入到环境变量PATH中，如果忘了勾选也没有关系，后面可以自己加。\n",
    "2. 运行Python\n",
    "Python安装好之后，可以WIN+R输入CMD进入命令行，然后直接运行Python进入交互环境，最后输入测试语句Print(\"Hello Python!!!\")看看运行结果。\n"
   ]
  },
  {
   "cell_type": "code",
   "execution_count": 1,
   "metadata": {},
   "outputs": [
    {
     "name": "stdout",
     "output_type": "stream",
     "text": [
      "Hello Python!!!\n"
     ]
    }
   ],
   "source": [
    "print(\"Hello Python!!!\")"
   ]
  },
  {
   "cell_type": "markdown",
   "metadata": {},
   "source": [
    "3. 运行IDLE\n",
    "IDLE是一个可视化的交互式环境和编辑环境，可以创建和编辑新的.py文件，也可以进入交互式环境。我们可以使用交互式环境再次运行print(\"Hello Python!!!\")看看结果如何。\n",
    "我们也可以新建一个文件叫hello.py,文件内容就一句话print(\"Hello Python\")。然后我们在命令行通过python hello.py执行该文件，查看执行结果。IDLE很简单，如果你不满意的话，有很多优秀的IDE可以选择，放在后面的任务在说。\n"
   ]
  }
 ],
 "metadata": {
  "kernelspec": {
   "display_name": "Python 3",
   "language": "python",
   "name": "python3"
  },
  "language_info": {
   "codemirror_mode": {
    "name": "ipython",
    "version": 3
   },
   "file_extension": ".py",
   "mimetype": "text/x-python",
   "name": "python",
   "nbconvert_exporter": "python",
   "pygments_lexer": "ipython3",
   "version": "3.7.3"
  }
 },
 "nbformat": 4,
 "nbformat_minor": 2
}
